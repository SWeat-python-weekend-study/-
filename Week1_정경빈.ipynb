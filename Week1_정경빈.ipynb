{
  "nbformat": 4,
  "nbformat_minor": 0,
  "metadata": {
    "colab": {
      "name": "Week1_정경빈.ipynb",
      "provenance": [],
      "collapsed_sections": [],
      "authorship_tag": "ABX9TyM6mhwRnkstHUd1d4jZC8BG",
      "include_colab_link": true
    },
    "kernelspec": {
      "name": "python3",
      "display_name": "Python 3"
    }
  },
  "cells": [
    {
      "cell_type": "markdown",
      "metadata": {
        "id": "view-in-github",
        "colab_type": "text"
      },
      "source": [
        "<a href=\"https://colab.research.google.com/github/SWeat-python-weekend-study/Jung-Kyeong-Bin/blob/0214/Week1_%EC%A0%95%EA%B2%BD%EB%B9%88.ipynb\" target=\"_parent\"><img src=\"https://colab.research.google.com/assets/colab-badge.svg\" alt=\"Open In Colab\"/></a>"
      ]
    },
    {
      "cell_type": "markdown",
      "metadata": {
        "id": "SFYYXIQSqebY"
      },
      "source": [
        "0.CoLab"
      ]
    },
    {
      "cell_type": "code",
      "metadata": {
        "colab": {
          "base_uri": "https://localhost:8080/"
        },
        "id": "ja9VM-kUbDfz",
        "outputId": "2d7acdf9-82bd-4292-91b3-86007fb186ba"
      },
      "source": [
        "%pdb\r\n"
      ],
      "execution_count": 2,
      "outputs": [
        {
          "output_type": "stream",
          "text": [
            "Automatic pdb calling has been turned ON\n"
          ],
          "name": "stdout"
        }
      ]
    },
    {
      "cell_type": "code",
      "metadata": {
        "colab": {
          "base_uri": "https://localhost:8080/"
        },
        "id": "CVgasnYups92",
        "outputId": "3dd21094-b235-4196-a663-398fd1e86742"
      },
      "source": [
        "!pwd\r\n"
      ],
      "execution_count": 42,
      "outputs": [
        {
          "output_type": "stream",
          "text": [
            "/content\n"
          ],
          "name": "stdout"
        }
      ]
    },
    {
      "cell_type": "markdown",
      "metadata": {
        "id": "8e315Vi_qo90"
      },
      "source": [
        "\r\n",
        "1. iterator\r\n",
        "\r\n",
        "iterable: 반복 가능한 객체\r\n",
        "ex) 문자열, 리스트, 딕셔너리, 집합\r\n",
        "요소가 여러개 들어있고, 한 번에 하나씩 꺼낼 수 있는 객체\r\n",
        "\r\n",
        "__iter__ 메서드가 해당 객체에 있는지 확인"
      ]
    },
    {
      "cell_type": "code",
      "metadata": {
        "colab": {
          "base_uri": "https://localhost:8080/"
        },
        "id": "VySOCj26pvRv",
        "outputId": "c02d916f-467f-4030-9416-9b115483dc62"
      },
      "source": [
        "!ls\r\n"
      ],
      "execution_count": 43,
      "outputs": [
        {
          "output_type": "stream",
          "text": [
            "fibonacci.py  sample_data  student.txt\n"
          ],
          "name": "stdout"
        }
      ]
    },
    {
      "cell_type": "code",
      "metadata": {
        "id": "Vuf1U70Lp6Fm"
      },
      "source": [
        "!tail nohup.out"
      ],
      "execution_count": null,
      "outputs": []
    },
    {
      "cell_type": "code",
      "metadata": {
        "id": "r4HWHfD6qCG-"
      },
      "source": [
        "list = !ls"
      ],
      "execution_count": 45,
      "outputs": []
    },
    {
      "cell_type": "code",
      "metadata": {
        "id": "ourqzLXUqD7a"
      },
      "source": [
        "for file in list:\r\n",
        "  print file"
      ],
      "execution_count": null,
      "outputs": []
    },
    {
      "cell_type": "code",
      "metadata": {
        "id": "Oh52M1lVbS-U"
      },
      "source": [
        "%%writefile fibonacci.py\r\n",
        "def fibonacci(n):\r\n",
        "  if n<1:\r\n",
        "  else:\r\n",
        "    return fibonacci(n-1)+fibonacci(n-2)\r\n",
        "    "
      ],
      "execution_count": null,
      "outputs": []
    },
    {
      "cell_type": "code",
      "metadata": {
        "id": "sKkaoPf-booS"
      },
      "source": [
        "def g():\r\n",
        "  print('one')\r\n",
        "  print('two')\r\n",
        "  print('three')\r\n",
        "_ =g()\r\n",
        "next(_)\r\n",
        "next(_)\r\n",
        "next(_)"
      ],
      "execution_count": null,
      "outputs": []
    },
    {
      "cell_type": "code",
      "metadata": {
        "colab": {
          "base_uri": "https://localhost:8080/"
        },
        "id": "8234-0mlb4CS",
        "outputId": "feaa4192-376a-46e3-f472-a991d8a93a67"
      },
      "source": [
        "def g():\r\n",
        "  A = [1,2,3,4,5]\r\n",
        "  for _ in A:\r\n",
        "    yield _\r\n",
        "for _ in g():\r\n",
        "  print( _ * 2)"
      ],
      "execution_count": 1,
      "outputs": [
        {
          "output_type": "stream",
          "text": [
            "2\n",
            "4\n",
            "6\n",
            "8\n",
            "10\n"
          ],
          "name": "stdout"
        }
      ]
    },
    {
      "cell_type": "code",
      "metadata": {
        "colab": {
          "base_uri": "https://localhost:8080/",
          "height": 35
        },
        "id": "O413e3GCcGy_",
        "outputId": "635f2e2f-f901-4f2f-8439-17a7d996b7eb"
      },
      "source": [
        "def confirm(x):\r\n",
        "  return '1입니다' if x==1 else\\\r\n",
        "         '5입니다' if x==5 else\\\r\n",
        "         '1도 5도 아닙니다.'\r\n",
        "confirm(1)\r\n",
        "confirm(3)"
      ],
      "execution_count": 3,
      "outputs": [
        {
          "output_type": "execute_result",
          "data": {
            "application/vnd.google.colaboratory.intrinsic+json": {
              "type": "string"
            },
            "text/plain": [
              "'1도 5도 아닙니다.'"
            ]
          },
          "metadata": {
            "tags": []
          },
          "execution_count": 3
        }
      ]
    },
    {
      "cell_type": "code",
      "metadata": {
        "colab": {
          "base_uri": "https://localhost:8080/"
        },
        "id": "92G4wWjGc-jm",
        "outputId": "499c5eb4-b612-414b-c53f-5373b9b0e129"
      },
      "source": [
        "A = list(range(10))\r\n",
        "A"
      ],
      "execution_count": 4,
      "outputs": [
        {
          "output_type": "execute_result",
          "data": {
            "text/plain": [
              "[0, 1, 2, 3, 4, 5, 6, 7, 8, 9]"
            ]
          },
          "metadata": {
            "tags": []
          },
          "execution_count": 4
        }
      ]
    },
    {
      "cell_type": "code",
      "metadata": {
        "colab": {
          "base_uri": "https://localhost:8080/"
        },
        "id": "mRTlGd54eJ9z",
        "outputId": "2a0a7ce8-817e-42af-81e5-10ba8cb52c5d"
      },
      "source": [
        "B = [_ for _ in A]\r\n",
        "B\r\n",
        "\r\n"
      ],
      "execution_count": 7,
      "outputs": [
        {
          "output_type": "execute_result",
          "data": {
            "text/plain": [
              "[0, 1, 2, 3, 4, 5, 6, 7, 8, 9]"
            ]
          },
          "metadata": {
            "tags": []
          },
          "execution_count": 7
        }
      ]
    },
    {
      "cell_type": "code",
      "metadata": {
        "colab": {
          "base_uri": "https://localhost:8080/"
        },
        "id": "QwxhFiVjeTTm",
        "outputId": "52a94483-592e-4e2b-b087-2ca06e759ffe"
      },
      "source": [
        "X = [0 for i in range(5)]\r\n",
        "X\r\n"
      ],
      "execution_count": 8,
      "outputs": [
        {
          "output_type": "execute_result",
          "data": {
            "text/plain": [
              "[0, 0, 0, 0, 0]"
            ]
          },
          "metadata": {
            "tags": []
          },
          "execution_count": 8
        }
      ]
    },
    {
      "cell_type": "code",
      "metadata": {
        "colab": {
          "base_uri": "https://localhost:8080/"
        },
        "id": "-bAtYtRCedQh",
        "outputId": "7283acd1-aed8-4afe-99d1-7de00dfafc37"
      },
      "source": [
        "C =[ x for x in A if x>5]\r\n",
        "C\r\n"
      ],
      "execution_count": 9,
      "outputs": [
        {
          "output_type": "execute_result",
          "data": {
            "text/plain": [
              "[6, 7, 8, 9]"
            ]
          },
          "metadata": {
            "tags": []
          },
          "execution_count": 9
        }
      ]
    },
    {
      "cell_type": "code",
      "metadata": {
        "colab": {
          "base_uri": "https://localhost:8080/"
        },
        "id": "-JA4b0PpfOEx",
        "outputId": "2bd659d2-b7a4-4264-b2e1-27d813dfb356"
      },
      "source": [
        "x = ['3', '5', '2']\r\n",
        "Y = [int(i) for i in x]\r\n",
        "Y\r\n",
        "\r\n"
      ],
      "execution_count": 10,
      "outputs": [
        {
          "output_type": "execute_result",
          "data": {
            "text/plain": [
              "[3, 5, 2]"
            ]
          },
          "metadata": {
            "tags": []
          },
          "execution_count": 10
        }
      ]
    },
    {
      "cell_type": "code",
      "metadata": {
        "colab": {
          "base_uri": "https://localhost:8080/"
        },
        "id": "hpZ_Yj-1fYIg",
        "outputId": "91ff1985-c8b6-4330-c1c3-22a8275e2349"
      },
      "source": [
        "D = [x for x in A if x > 5 and x % 2 == 0 ]\r\n",
        "D\r\n"
      ],
      "execution_count": 11,
      "outputs": [
        {
          "output_type": "execute_result",
          "data": {
            "text/plain": [
              "[6, 8]"
            ]
          },
          "metadata": {
            "tags": []
          },
          "execution_count": 11
        }
      ]
    },
    {
      "cell_type": "code",
      "metadata": {
        "colab": {
          "base_uri": "https://localhost:8080/"
        },
        "id": "4DqBWbyVfenT",
        "outputId": "442532ad-26a5-4ebc-d152-90ab63138db0"
      },
      "source": [
        "def F(n):\r\n",
        "  if n <=2:\r\n",
        "    return 1\r\n",
        "  else:\r\n",
        "    return F(n-1) + F(n-2)\r\n",
        "\r\n",
        "R = [F(n) for n in range (1,10)]\r\n",
        "print(R)\r\n"
      ],
      "execution_count": 13,
      "outputs": [
        {
          "output_type": "stream",
          "text": [
            "[1, 1, 2, 3, 5, 8, 13, 21, 34]\n"
          ],
          "name": "stdout"
        }
      ]
    },
    {
      "cell_type": "code",
      "metadata": {
        "id": "Txh5A8W0f7y9"
      },
      "source": [
        "A = lambda x : x*2\r\n",
        "A(5)\r\n",
        "\r\n",
        "def lamb(x):\r\n",
        "  return x*2\r\n"
      ],
      "execution_count": 15,
      "outputs": []
    },
    {
      "cell_type": "code",
      "metadata": {
        "colab": {
          "base_uri": "https://localhost:8080/"
        },
        "id": "ATAx3S11gs9e",
        "outputId": "fecda5cf-c481-49ab-8e45-e500fead6226"
      },
      "source": [
        "F = lambda n : F(n-1) + F(n-2) if n>2 else 1\r\n",
        "R = [F(n) for n in range(1,10)]\r\n",
        "print(R)\r\n"
      ],
      "execution_count": 16,
      "outputs": [
        {
          "output_type": "stream",
          "text": [
            "[1, 1, 2, 3, 5, 8, 13, 21, 34]\n"
          ],
          "name": "stdout"
        }
      ]
    },
    {
      "cell_type": "code",
      "metadata": {
        "colab": {
          "base_uri": "https://localhost:8080/"
        },
        "id": "t130ds5Wg13u",
        "outputId": "3ab80ef0-9577-417c-b63e-3c8452ce8e89"
      },
      "source": [
        "A = lambda x : x*2\r\n",
        "B = lambda x : x*3\r\n",
        "C = lambda x : x*4\r\n",
        "D = lambda x : x*5\r\n",
        "\r\n",
        "L = [A,B,C,D]\r\n",
        "\r\n",
        "for f in L:\r\n",
        "  print(f(2))\r\n",
        "  "
      ],
      "execution_count": 20,
      "outputs": [
        {
          "output_type": "stream",
          "text": [
            "4\n",
            "6\n",
            "8\n",
            "10\n"
          ],
          "name": "stdout"
        }
      ]
    },
    {
      "cell_type": "code",
      "metadata": {
        "colab": {
          "base_uri": "https://localhost:8080/"
        },
        "id": "H6KATA3shD6H",
        "outputId": "8ac12a1d-2a0d-4bd6-8a89-71ae098cb2c6"
      },
      "source": [
        "F = lambda n : [f(n) for f in L]\r\n",
        "F(2)\r\n"
      ],
      "execution_count": 21,
      "outputs": [
        {
          "output_type": "execute_result",
          "data": {
            "text/plain": [
              "[4, 6, 8, 10]"
            ]
          },
          "metadata": {
            "tags": []
          },
          "execution_count": 21
        }
      ]
    },
    {
      "cell_type": "code",
      "metadata": {
        "colab": {
          "base_uri": "https://localhost:8080/",
          "height": 35
        },
        "id": "VeHwWHNkg81d",
        "outputId": "765f3993-f5ed-4be0-c764-33d7754c6a30"
      },
      "source": [
        "F = lambda * x : ''.join(x)\r\n",
        "F('파이썬', '코딩', '쉽네')\r\n"
      ],
      "execution_count": 23,
      "outputs": [
        {
          "output_type": "execute_result",
          "data": {
            "application/vnd.google.colaboratory.intrinsic+json": {
              "type": "string"
            },
            "text/plain": [
              "'파이썬코딩쉽네'"
            ]
          },
          "metadata": {
            "tags": []
          },
          "execution_count": 23
        }
      ]
    },
    {
      "cell_type": "code",
      "metadata": {
        "id": "0DnRFAIZjxxP"
      },
      "source": [
        ""
      ],
      "execution_count": null,
      "outputs": []
    },
    {
      "cell_type": "code",
      "metadata": {
        "colab": {
          "base_uri": "https://localhost:8080/"
        },
        "id": "XuRycGvCirH7",
        "outputId": "d660a22c-f7ac-45ba-bd91-aa13840b7bbc"
      },
      "source": [
        "F = lambda **x : [(v,k) for k, v in x.items()]\r\n",
        "D = F(A = '파이썬', B = '코딩', C= '쉽네')\r\n",
        "print(D)\r\n",
        "\r\n",
        "D = dict (D)\r\n",
        "print(D ['파이썬'])\r\n"
      ],
      "execution_count": 22,
      "outputs": [
        {
          "output_type": "stream",
          "text": [
            "[('파이썬', 'A'), ('코딩', 'B'), ('쉽네', 'C')]\n",
            "A\n"
          ],
          "name": "stdout"
        }
      ]
    },
    {
      "cell_type": "code",
      "metadata": {
        "colab": {
          "base_uri": "https://localhost:8080/"
        },
        "id": "Ag0dI8kEjyy2",
        "outputId": "2eadaeeb-661b-4c84-b2e1-014f48c6ba3b"
      },
      "source": [
        "F = lambda **x : sum(x['data']) if 'type' in x and x['type'] == 'sum' else 0\r\n",
        "F(type='sum', data =[1,2,3,4])\r\n",
        "F(data = [1,2,3,4,5])\r\n",
        "F(type = 'mul', data = [1,2,3,4,5])\r\n",
        "\r\n"
      ],
      "execution_count": 26,
      "outputs": [
        {
          "output_type": "execute_result",
          "data": {
            "text/plain": [
              "0"
            ]
          },
          "metadata": {
            "tags": []
          },
          "execution_count": 26
        }
      ]
    },
    {
      "cell_type": "code",
      "metadata": {
        "colab": {
          "base_uri": "https://localhost:8080/"
        },
        "id": "8yBhoOTWlhlu",
        "outputId": "e4400b69-f31c-407b-ea9d-733bec7cb5e0"
      },
      "source": [
        "\r\n",
        "with open('student.txt', 'r', encoding = 'euc-kr') as fr:\r\n",
        "  print(fr.readline())"
      ],
      "execution_count": 33,
      "outputs": [
        {
          "output_type": "stream",
          "text": [
            "태서연;54;72;60;78\n",
            "\n"
          ],
          "name": "stdout"
        }
      ]
    },
    {
      "cell_type": "code",
      "metadata": {
        "colab": {
          "base_uri": "https://localhost:8080/"
        },
        "id": "630oH6BAmE-5",
        "outputId": "4f1846b0-aaae-404a-973b-8f18d81413a1"
      },
      "source": [
        "F = lambda x : x.split(':')[1:]\r\n",
        "F('태서연;54;72;60;78')"
      ],
      "execution_count": 34,
      "outputs": [
        {
          "output_type": "execute_result",
          "data": {
            "text/plain": [
              "[]"
            ]
          },
          "metadata": {
            "tags": []
          },
          "execution_count": 34
        }
      ]
    },
    {
      "cell_type": "code",
      "metadata": {
        "id": "mho8kVOTmZsD"
      },
      "source": [
        "F = lambda x : sum([int(i) for i in x.split(':')[1:]])\r\n",
        "F = ('태서연;54;72;60;78')"
      ],
      "execution_count": 36,
      "outputs": []
    },
    {
      "cell_type": "code",
      "metadata": {
        "colab": {
          "base_uri": "https://localhost:8080/"
        },
        "id": "4Bg9TrgdnqUH",
        "outputId": "1dd3852d-d0b2-429b-b75f-1bd23fdc0acb"
      },
      "source": [
        "F = lambda x : (x.split(':')[0], sum([int(i) for i in x.split(';')[1:]]))\r\n",
        "name, total = F('태서연;54;72;60;78')\r\n",
        "print(name, total)"
      ],
      "execution_count": 39,
      "outputs": [
        {
          "output_type": "stream",
          "text": [
            "태서연;54;72;60;78 264\n"
          ],
          "name": "stdout"
        }
      ]
    },
    {
      "cell_type": "code",
      "metadata": {
        "colab": {
          "base_uri": "https://localhost:8080/"
        },
        "id": "k03s7V5Ln-z2",
        "outputId": "4879117c-c4d6-4f66-eb40-448e0e46489b"
      },
      "source": [
        "F = lambda L : [int(x) for x in L[1:]]\r\n",
        "F('태서연;54;72;60;78'.split(';'))\r\n",
        "print(name,total)"
      ],
      "execution_count": 40,
      "outputs": [
        {
          "output_type": "stream",
          "text": [
            "태서연;54;72;60;78 264\n"
          ],
          "name": "stdout"
        }
      ]
    },
    {
      "cell_type": "code",
      "metadata": {
        "id": "vW5DoOA3ocJl"
      },
      "source": [
        "F = lambda L, T: (L[0], sum([int(_)for_ int L[1:]]))  if T == 'sum' else\\\r\n",
        "                 (L[0], sum([int(_)for _in L[1:]]) / len(L[1:])) if T == 'avg' else \\\r\n",
        "                 (L[0], None)"
      ],
      "execution_count": null,
      "outputs": []
    }
  ]
}